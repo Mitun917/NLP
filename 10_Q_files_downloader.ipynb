{
 "cells": [
  {
   "cell_type": "code",
   "execution_count": 1,
   "id": "b8547cb0",
   "metadata": {},
   "outputs": [],
   "source": [
    "from sec_edgar_downloader import Downloader\n"
   ]
  },
  {
   "cell_type": "code",
   "execution_count": 16,
   "id": "6821e5db",
   "metadata": {},
   "outputs": [],
   "source": [
    "import pandas as pd\n",
    "from sec_edgar_downloader import Downloader\n",
    "\n",
    "# Read the CSV file into a pandas DataFrame\n",
    "df = pd.read_csv(\"ticker_data.csv\")\n",
    "df = pd.read_csv(\"cik.csv\", header=None)"
   ]
  },
  {
   "cell_type": "code",
   "execution_count": 6,
   "id": "4896751b",
   "metadata": {},
   "outputs": [
    {
     "data": {
      "text/html": [
       "<div>\n",
       "<style scoped>\n",
       "    .dataframe tbody tr th:only-of-type {\n",
       "        vertical-align: middle;\n",
       "    }\n",
       "\n",
       "    .dataframe tbody tr th {\n",
       "        vertical-align: top;\n",
       "    }\n",
       "\n",
       "    .dataframe thead th {\n",
       "        text-align: right;\n",
       "    }\n",
       "</style>\n",
       "<table border=\"1\" class=\"dataframe\">\n",
       "  <thead>\n",
       "    <tr style=\"text-align: right;\">\n",
       "      <th></th>\n",
       "      <th>ticker</th>\n",
       "    </tr>\n",
       "  </thead>\n",
       "  <tbody>\n",
       "    <tr>\n",
       "      <th>0</th>\n",
       "      <td>ORCL</td>\n",
       "    </tr>\n",
       "    <tr>\n",
       "      <th>1</th>\n",
       "      <td>MSFT</td>\n",
       "    </tr>\n",
       "    <tr>\n",
       "      <th>2</th>\n",
       "      <td>TROW</td>\n",
       "    </tr>\n",
       "    <tr>\n",
       "      <th>3</th>\n",
       "      <td>HON</td>\n",
       "    </tr>\n",
       "    <tr>\n",
       "      <th>4</th>\n",
       "      <td>ADM</td>\n",
       "    </tr>\n",
       "    <tr>\n",
       "      <th>...</th>\n",
       "      <td>...</td>\n",
       "    </tr>\n",
       "    <tr>\n",
       "      <th>498</th>\n",
       "      <td>DG</td>\n",
       "    </tr>\n",
       "    <tr>\n",
       "      <th>499</th>\n",
       "      <td>FTNT</td>\n",
       "    </tr>\n",
       "    <tr>\n",
       "      <th>500</th>\n",
       "      <td>GNRC</td>\n",
       "    </tr>\n",
       "    <tr>\n",
       "      <th>501</th>\n",
       "      <td>CBOE</td>\n",
       "    </tr>\n",
       "    <tr>\n",
       "      <th>502</th>\n",
       "      <td>TSLA</td>\n",
       "    </tr>\n",
       "  </tbody>\n",
       "</table>\n",
       "<p>503 rows × 1 columns</p>\n",
       "</div>"
      ],
      "text/plain": [
       "    ticker\n",
       "0     ORCL\n",
       "1     MSFT\n",
       "2     TROW\n",
       "3      HON\n",
       "4      ADM\n",
       "..     ...\n",
       "498     DG\n",
       "499   FTNT\n",
       "500   GNRC\n",
       "501   CBOE\n",
       "502   TSLA\n",
       "\n",
       "[503 rows x 1 columns]"
      ]
     },
     "execution_count": 6,
     "metadata": {},
     "output_type": "execute_result"
    }
   ],
   "source": [
    "df"
   ]
  },
  {
   "cell_type": "code",
   "execution_count": 2,
   "id": "806055b3",
   "metadata": {},
   "outputs": [],
   "source": [
    "dl = Downloader(\"MyCompanyName\", \"my.email@domain.com\")"
   ]
  },
  {
   "cell_type": "code",
   "execution_count": 14,
   "id": "ba6f17f2",
   "metadata": {},
   "outputs": [
    {
     "name": "stdout",
     "output_type": "stream",
     "text": [
      "Error for ticker 'FISV': Ticker 'FISV' is invalid and cannot be mapped to a CIK. Please enter a valid ticker or CIK.\n",
      "Error for ticker 'SIVB': Ticker 'SIVB' is invalid and cannot be mapped to a CIK. Please enter a valid ticker or CIK.\n",
      "Error for ticker 'FRC': Ticker 'FRC' is invalid and cannot be mapped to a CIK. Please enter a valid ticker or CIK.\n",
      "Error for ticker 'BF': Ticker 'BF' is invalid and cannot be mapped to a CIK. Please enter a valid ticker or CIK.\n",
      "Error for ticker 'PKI': Ticker 'PKI' is invalid and cannot be mapped to a CIK. Please enter a valid ticker or CIK.\n",
      "Error for ticker 'HCN': Ticker 'HCN' is invalid and cannot be mapped to a CIK. Please enter a valid ticker or CIK.\n",
      "Error for ticker 'ABC': Ticker 'ABC' is invalid and cannot be mapped to a CIK. Please enter a valid ticker or CIK.\n",
      "Error for ticker 'RE': Ticker 'RE' is invalid and cannot be mapped to a CIK. Please enter a valid ticker or CIK.\n",
      "Error for ticker 'BRK': Ticker 'BRK' is invalid and cannot be mapped to a CIK. Please enter a valid ticker or CIK.\n",
      "Error for ticker 'SBNY': Ticker 'SBNY' is invalid and cannot be mapped to a CIK. Please enter a valid ticker or CIK.\n",
      "Total number of downloaded filings: 7304\n",
      "Invalid Tickers:\n",
      "FISV\n",
      "SIVB\n",
      "FRC\n",
      "BF\n",
      "PKI\n",
      "HCN\n",
      "ABC\n",
      "RE\n",
      "BRK\n",
      "SBNY\n"
     ]
    }
   ],
   "source": [
    "import pandas as pd\n",
    "from sec_edgar_downloader import Downloader\n",
    "\n",
    "# Read the CSV file into a pandas DataFrame\n",
    "df = pd.read_csv(\"ticker_data.csv\")\n",
    "\n",
    "# Initialize the Downloader object\n",
    "dl = Downloader(\"MyCompanyName\", \"my.email@domain.com\")\n",
    "\n",
    "# Initialize a variable to count the total number of downloaded filings\n",
    "a = 0\n",
    "\n",
    "# Initialize a list to store invalid tickers\n",
    "invalid_tickers = []\n",
    "\n",
    "# Loop through the first 3 rows of the DataFrame and download 10-Q filings for each ticker\n",
    "for _, row in df.iterrows():\n",
    "    ticker = row['ticker']  # Assuming 'ticker' is the column containing ticker symbols\n",
    "    \n",
    "    try:\n",
    "        # Download 10-Q filings for the ticker\n",
    "        x = dl.get(\"10-Q\", ticker, after=\"2018-01-01\", before=\"2022-12-31\")\n",
    "        \n",
    "        # Accumulate the count of downloaded filings\n",
    "        a += x\n",
    "    except Exception as e:\n",
    "        # If an error occurs, save the invalid ticker in the list\n",
    "        invalid_tickers.append(ticker)\n",
    "        print(f\"Error for ticker '{ticker}': {str(e)}\")\n",
    "\n",
    "print(f\"Total number of downloaded filings: {a}\")\n",
    "\n",
    "# Print the list of invalid tickers at the end\n",
    "if invalid_tickers:\n",
    "    print(\"Invalid Tickers:\")\n",
    "    for invalid_ticker in invalid_tickers:\n",
    "        print(invalid_ticker)\n"
   ]
  },
  {
   "cell_type": "code",
   "execution_count": null,
   "id": "11b59465",
   "metadata": {},
   "outputs": [],
   "source": []
  }
 ],
 "metadata": {
  "kernelspec": {
   "display_name": "Python 3 (ipykernel)",
   "language": "python",
   "name": "python3"
  },
  "language_info": {
   "codemirror_mode": {
    "name": "ipython",
    "version": 3
   },
   "file_extension": ".py",
   "mimetype": "text/x-python",
   "name": "python",
   "nbconvert_exporter": "python",
   "pygments_lexer": "ipython3",
   "version": "3.10.10"
  }
 },
 "nbformat": 4,
 "nbformat_minor": 5
}
